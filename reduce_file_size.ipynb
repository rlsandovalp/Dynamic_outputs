{
 "cells": [
  {
   "cell_type": "code",
   "execution_count": 1,
   "metadata": {},
   "outputs": [],
   "source": [
    "import os\n",
    "import numpy as np\n",
    "from parflow.tools.io import read_pfb"
   ]
  },
  {
   "cell_type": "markdown",
   "metadata": {},
   "source": [
    "# Saturation data"
   ]
  },
  {
   "cell_type": "code",
   "execution_count": 33,
   "metadata": {},
   "outputs": [],
   "source": [
    "original_data = read_pfb('outputs/Dynamic_Spinup.out.satur.00000.pfb')\n",
    "mask = np.isnan(original_data)"
   ]
  },
  {
   "cell_type": "code",
   "execution_count": 34,
   "metadata": {},
   "outputs": [
    {
     "name": "stderr",
     "output_type": "stream",
     "text": [
      "C:\\Users\\Leonardo\\AppData\\Local\\Temp\\ipykernel_52476\\3248637368.py:3: RuntimeWarning: invalid value encountered in cast\n",
      "  np.save(f'outputs/Dynamic_Spinup.out.satur.{i:05d}.npy', np.round(data*10000, 0).astype(np.int16))\n"
     ]
    }
   ],
   "source": [
    "### SATURATION FILES!\n",
    "\n",
    "# for i in range(8761):\n",
    "#     data = read_pfb(f'outputs/Dynamic_Spinup.out.satur.{i:05d}.pfb')\n",
    "#     np.save(f'outputs/Dynamic_Spinup.out.satur.{i:05d}.npy', np.round(data*10000, 0).astype(np.int16))\n",
    "#     os.remove(f'outputs/Dynamic_Spinup.out.satur.{i:05d}.pfb')"
   ]
  },
  {
   "cell_type": "code",
   "execution_count": 69,
   "metadata": {},
   "outputs": [],
   "source": [
    "saturation = np.load('outputs/Dynamic_Spinup.out.satur.00000.npy')"
   ]
  },
  {
   "cell_type": "markdown",
   "metadata": {},
   "source": [
    "To load the saturation data I have to (i) read the file, (ii) divide the saturation data by 10000, and (iii) apply the mask"
   ]
  },
  {
   "cell_type": "code",
   "execution_count": 19,
   "metadata": {},
   "outputs": [],
   "source": [
    "sat_2 = np.load('file.npy')/10000"
   ]
  },
  {
   "cell_type": "markdown",
   "metadata": {},
   "source": [
    "# Pressure Data"
   ]
  },
  {
   "cell_type": "code",
   "execution_count": 68,
   "metadata": {},
   "outputs": [
    {
     "name": "stderr",
     "output_type": "stream",
     "text": [
      "C:\\Users\\Leonardo\\AppData\\Local\\Temp\\ipykernel_44104\\2416531736.py:4: RuntimeWarning: invalid value encountered in cast\n",
      "  np.save(f'outputs/Dynamic_Spinup.out.press.{i:05d}.npy', np.round(original_pressure*100, 0).astype(np.int16))\n"
     ]
    }
   ],
   "source": [
    "for i in range(8761):\n",
    "    original_pressure = read_pfb(f'outputs/Dynamic_Spinup.out.press.{i:05d}.pfb')\n",
    "    original_pressure[original_pressure < -225] = np.nan\n",
    "    np.save(f'outputs/Dynamic_Spinup.out.press.{i:05d}.npy', np.round(original_pressure*100, 0).astype(np.int16))\n",
    "    os.remove(f'outputs/Dynamic_Spinup.out.press.{i:05d}.pfb')"
   ]
  },
  {
   "cell_type": "markdown",
   "metadata": {},
   "source": [
    "To load the pressure data I have to (i) read the file, (ii) divide the pressure data by 100, and (iii) apply the mask"
   ]
  }
 ],
 "metadata": {
  "kernelspec": {
   "display_name": "base",
   "language": "python",
   "name": "python3"
  },
  "language_info": {
   "codemirror_mode": {
    "name": "ipython",
    "version": 3
   },
   "file_extension": ".py",
   "mimetype": "text/x-python",
   "name": "python",
   "nbconvert_exporter": "python",
   "pygments_lexer": "ipython3",
   "version": "3.11.5"
  }
 },
 "nbformat": 4,
 "nbformat_minor": 2
}

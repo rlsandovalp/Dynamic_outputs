{
 "cells": [
  {
   "cell_type": "code",
   "execution_count": 1,
   "metadata": {},
   "outputs": [
    {
     "name": "stderr",
     "output_type": "stream",
     "text": [
      "/home/leonardo/miniconda3/lib/python3.10/site-packages/parflow/tools/io.py:805: NumbaDeprecationWarning: The 'nopython' keyword argument was not supplied to the 'numba.jit' decorator. The implicit default value for this argument is currently False, but it will be changed to True in Numba 0.59.0. See https://numba.readthedocs.io/en/stable/reference/deprecation.html#deprecation-of-object-mode-fall-back-behaviour-when-using-jit for details.\n",
      "  @jit()\n",
      "/home/leonardo/miniconda3/lib/python3.10/site-packages/parflow/tools/io.py:837: NumbaDeprecationWarning: The 'nopython' keyword argument was not supplied to the 'numba.jit' decorator. The implicit default value for this argument is currently False, but it will be changed to True in Numba 0.59.0. See https://numba.readthedocs.io/en/stable/reference/deprecation.html#deprecation-of-object-mode-fall-back-behaviour-when-using-jit for details.\n",
      "  @jit()\n",
      "/home/leonardo/miniconda3/lib/python3.10/site-packages/parflow/tools/io.py:860: NumbaDeprecationWarning: The 'nopython' keyword argument was not supplied to the 'numba.jit' decorator. The implicit default value for this argument is currently False, but it will be changed to True in Numba 0.59.0. See https://numba.readthedocs.io/en/stable/reference/deprecation.html#deprecation-of-object-mode-fall-back-behaviour-when-using-jit for details.\n",
      "  @jit()\n",
      "/home/leonardo/miniconda3/lib/python3.10/site-packages/parflow/tools/io.py:896: NumbaDeprecationWarning: The 'nopython' keyword argument was not supplied to the 'numba.jit' decorator. The implicit default value for this argument is currently False, but it will be changed to True in Numba 0.59.0. See https://numba.readthedocs.io/en/stable/reference/deprecation.html#deprecation-of-object-mode-fall-back-behaviour-when-using-jit for details.\n",
      "  @jit()\n",
      "/home/leonardo/miniconda3/lib/python3.10/site-packages/parflow/tools/io.py:932: NumbaDeprecationWarning: The 'nopython' keyword argument was not supplied to the 'numba.jit' decorator. The implicit default value for this argument is currently False, but it will be changed to True in Numba 0.59.0. See https://numba.readthedocs.io/en/stable/reference/deprecation.html#deprecation-of-object-mode-fall-back-behaviour-when-using-jit for details.\n",
      "  @jit()\n"
     ]
    }
   ],
   "source": [
    "import numpy as np\n",
    "from parflow.tools.io import write_pfb"
   ]
  },
  {
   "cell_type": "code",
   "execution_count": null,
   "metadata": {},
   "outputs": [],
   "source": [
    "# scp -r .\\forcing_2009\\* rsandova@login.g100.cineca.it:/g100_scratch/userexternal/rsandova\n",
    "\n",
    "\n",
    "variables = [\n",
    "             ['ASWDIFD_S', 'DSWR', 'ASWDIFD_S'],\n",
    "             ['ATHD_S', 'DLWR', 'ATHD_S'],\n",
    "             ['PS', 'Press', 'sp'],\n",
    "             ['QV_S', 'SPFH', 'QV_S'],\n",
    "             ['T_2M', 'Temp', '2t'],\n",
    "             ['TOT_PRECIP', 'APCP', 'tp'],\n",
    "             ['U_10M', 'UGRD', '10u'],\n",
    "             ['V_10M', 'VGRD', '10v']\n",
    "             ]\n",
    "\n",
    "years = [\n",
    "         ['2009', 365],\n",
    "        #  ['2010', 365],\n",
    "        #  ['2011', 365],\n",
    "        #  ['2012', 366],\n",
    "        #  ['2013', 365],\n",
    "        #  ['2014', 365],\n",
    "        #  ['2015', 365],\n",
    "        #  ['2016', 366],\n",
    "        #  ['2017', 365],\n",
    "        #  ['2018', 365]\n",
    "         ]"
   ]
  },
  {
   "cell_type": "code",
   "execution_count": null,
   "metadata": {},
   "outputs": [],
   "source": [
    "for variable in variables:\n",
    "    for year in years:\n",
    "        variable_data = np.load('$SCRATCH/forcing_'+year[0]+'/FORCING_lombardy.'+variable[1]+'.npz')\n",
    "        # for day in range(year[1]):\n",
    "        for day in range(3):\n",
    "            data_day = variable_data[day*24:(day+1)*24,:,:]\n",
    "            write_pfb('PFB/forcing_'+year[0]+'/FORCING_lombardy.'+variable[1]+'.'+str(day*24+1).zfill(6)+'_to_'+str((day+1)*24).zfill(6)+'.pfb', data_day, p=1, q=1, r=1, x=265, y=165, z=24, dx=2000, dy=2000, dz=1, dist = True)      "
   ]
  }
 ],
 "metadata": {
  "kernelspec": {
   "display_name": "base",
   "language": "python",
   "name": "python3"
  },
  "language_info": {
   "codemirror_mode": {
    "name": "ipython",
    "version": 3
   },
   "file_extension": ".py",
   "mimetype": "text/x-python",
   "name": "python",
   "nbconvert_exporter": "python",
   "pygments_lexer": "ipython3",
   "version": "3.10.12"
  }
 },
 "nbformat": 4,
 "nbformat_minor": 2
}
